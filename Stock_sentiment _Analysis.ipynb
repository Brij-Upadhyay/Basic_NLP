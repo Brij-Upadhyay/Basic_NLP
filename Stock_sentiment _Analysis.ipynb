{
 "cells": [
  {
   "cell_type": "code",
   "execution_count": 170,
   "id": "062da372",
   "metadata": {},
   "outputs": [],
   "source": [
    "\n",
    "    "
   ]
  },
  {
   "cell_type": "markdown",
   "id": "5f22db3b",
   "metadata": {},
   "source": [
    "\n",
    "a.Remove punctuations, special characters and stopwords from the text column. Convert the text to lower case. \n",
    "b.Create two objects X and y. X will be the 'Tweets' column data frame and y will be the “Sentiment” column.\n",
    "    1. Create a CountVectorizer object and split the data into training and testing sets. Train a MultinomialNB model and    Display the confusion Matrix\n",
    "    2. Create a Tfidf object and split the data into training and testing sets. Train a MultinomialNB model and Display the confusion Matrix \n",
    "c.Compare tfidf and countvectorizer and mention the conclusion \n",
    "d.Display the POS tagging on the first 4 rows of ‘Tweets’ "
   ]
  },
  {
   "cell_type": "code",
   "execution_count": 171,
   "id": "1afa968a",
   "metadata": {},
   "outputs": [],
   "source": [
    "#importing required libraries\n",
    "import pandas as pd\n",
    "import numpy as np\n",
    "import matplotlib.pyplot as plt\n",
    "from datetime import datetime\n",
    "from sklearn.model_selection import train_test_split\n",
    "import re\n",
    "from nltk.corpus import stopwords\n",
    "from nltk.tokenize import word_tokenize\n",
    "from nltk.stem import WordNetLemmatizer\n",
    "from nltk.stem.porter import PorterStemmer\n",
    "from sklearn.feature_extraction.text import TfidfVectorizer\n",
    "from sklearn.ensemble import RandomForestClassifier\n",
    "from sklearn.metrics import confusion_matrix, accuracy_score\n",
    "from sklearn.feature_extraction.text import CountVectorizer\n",
    "from sklearn.naive_bayes import MultinomialNB\n",
    "from sklearn import metrics\n",
    "import itertools\n",
    "import nltk"
   ]
  },
  {
   "cell_type": "code",
   "execution_count": 172,
   "id": "3a82231f",
   "metadata": {},
   "outputs": [],
   "source": [
    "df=pd.read_csv(r'C:\\Users\\briju\\Desktop\\Mtech\\Assignment\\Data\\Project6500.csv') #Reading and converting the dataset in to dataframe"
   ]
  },
  {
   "cell_type": "code",
   "execution_count": 173,
   "id": "88ae19f5",
   "metadata": {},
   "outputs": [
    {
     "data": {
      "text/html": [
       "<div>\n",
       "<style scoped>\n",
       "    .dataframe tbody tr th:only-of-type {\n",
       "        vertical-align: middle;\n",
       "    }\n",
       "\n",
       "    .dataframe tbody tr th {\n",
       "        vertical-align: top;\n",
       "    }\n",
       "\n",
       "    .dataframe thead th {\n",
       "        text-align: right;\n",
       "    }\n",
       "</style>\n",
       "<table border=\"1\" class=\"dataframe\">\n",
       "  <thead>\n",
       "    <tr style=\"text-align: right;\">\n",
       "      <th></th>\n",
       "      <th>datetime</th>\n",
       "      <th>headline</th>\n",
       "      <th>ticker</th>\n",
       "      <th>sentiment</th>\n",
       "    </tr>\n",
       "  </thead>\n",
       "  <tbody>\n",
       "    <tr>\n",
       "      <th>0</th>\n",
       "      <td>01/16/2020 05:25 AM</td>\n",
       "      <td>$MMM fell on hard times but could be set to re...</td>\n",
       "      <td>MMM</td>\n",
       "      <td>0</td>\n",
       "    </tr>\n",
       "    <tr>\n",
       "      <th>1</th>\n",
       "      <td>01/11/2020 06:43</td>\n",
       "      <td>Wolfe Research Upgrades 3M $MMM to ��Peer Perf...</td>\n",
       "      <td>MMM</td>\n",
       "      <td>1</td>\n",
       "    </tr>\n",
       "    <tr>\n",
       "      <th>2</th>\n",
       "      <td>01/09/2020 09:37</td>\n",
       "      <td>3M $MMM Upgraded to ��Peer Perform�� by Wolfe ...</td>\n",
       "      <td>MMM</td>\n",
       "      <td>1</td>\n",
       "    </tr>\n",
       "    <tr>\n",
       "      <th>3</th>\n",
       "      <td>01/08/2020 17:01</td>\n",
       "      <td>$MMM #insideday follow up as it also opened up...</td>\n",
       "      <td>MMM</td>\n",
       "      <td>1</td>\n",
       "    </tr>\n",
       "    <tr>\n",
       "      <th>4</th>\n",
       "      <td>01/08/2020 07:44</td>\n",
       "      <td>$MMM is best #dividend #stock out there and do...</td>\n",
       "      <td>MMM</td>\n",
       "      <td>0</td>\n",
       "    </tr>\n",
       "    <tr>\n",
       "      <th>...</th>\n",
       "      <td>...</td>\n",
       "      <td>...</td>\n",
       "      <td>...</td>\n",
       "      <td>...</td>\n",
       "    </tr>\n",
       "    <tr>\n",
       "      <th>9465</th>\n",
       "      <td>04/11/2019 01:24</td>\n",
       "      <td>$WMT - Walmart shifts to remodeling vs. new st...</td>\n",
       "      <td>WMT</td>\n",
       "      <td>1</td>\n",
       "    </tr>\n",
       "    <tr>\n",
       "      <th>9466</th>\n",
       "      <td>04/10/2019 06:05</td>\n",
       "      <td>Walmart INC $WMT Holder Texas Permanent School...</td>\n",
       "      <td>WMT</td>\n",
       "      <td>0</td>\n",
       "    </tr>\n",
       "    <tr>\n",
       "      <th>9467</th>\n",
       "      <td>04/09/2019 04:38</td>\n",
       "      <td>$WMT $GILD:3 Dividend Stocks Perfect for Retir...</td>\n",
       "      <td>WMT</td>\n",
       "      <td>1</td>\n",
       "    </tr>\n",
       "    <tr>\n",
       "      <th>9468</th>\n",
       "      <td>04/09/2019 04:30</td>\n",
       "      <td>Walmart expanding use of #robots to scan shelv...</td>\n",
       "      <td>WMT</td>\n",
       "      <td>1</td>\n",
       "    </tr>\n",
       "    <tr>\n",
       "      <th>9469</th>\n",
       "      <td>04/09/2019 04:11</td>\n",
       "      <td>$WMT Walmart plans to add thousands of robot h...</td>\n",
       "      <td>WMT</td>\n",
       "      <td>1</td>\n",
       "    </tr>\n",
       "  </tbody>\n",
       "</table>\n",
       "<p>9470 rows × 4 columns</p>\n",
       "</div>"
      ],
      "text/plain": [
       "                 datetime                                           headline  \\\n",
       "0     01/16/2020 05:25 AM  $MMM fell on hard times but could be set to re...   \n",
       "1        01/11/2020 06:43  Wolfe Research Upgrades 3M $MMM to ��Peer Perf...   \n",
       "2        01/09/2020 09:37  3M $MMM Upgraded to ��Peer Perform�� by Wolfe ...   \n",
       "3        01/08/2020 17:01  $MMM #insideday follow up as it also opened up...   \n",
       "4        01/08/2020 07:44  $MMM is best #dividend #stock out there and do...   \n",
       "...                   ...                                                ...   \n",
       "9465     04/11/2019 01:24  $WMT - Walmart shifts to remodeling vs. new st...   \n",
       "9466     04/10/2019 06:05  Walmart INC $WMT Holder Texas Permanent School...   \n",
       "9467     04/09/2019 04:38  $WMT $GILD:3 Dividend Stocks Perfect for Retir...   \n",
       "9468     04/09/2019 04:30  Walmart expanding use of #robots to scan shelv...   \n",
       "9469     04/09/2019 04:11  $WMT Walmart plans to add thousands of robot h...   \n",
       "\n",
       "     ticker  sentiment  \n",
       "0       MMM          0  \n",
       "1       MMM          1  \n",
       "2       MMM          1  \n",
       "3       MMM          1  \n",
       "4       MMM          0  \n",
       "...     ...        ...  \n",
       "9465    WMT          1  \n",
       "9466    WMT          0  \n",
       "9467    WMT          1  \n",
       "9468    WMT          1  \n",
       "9469    WMT          1  \n",
       "\n",
       "[9470 rows x 4 columns]"
      ]
     },
     "execution_count": 173,
     "metadata": {},
     "output_type": "execute_result"
    }
   ],
   "source": [
    "df"
   ]
  },
  {
   "cell_type": "code",
   "execution_count": 174,
   "id": "cbccdb3f",
   "metadata": {},
   "outputs": [],
   "source": [
    "#Making the data in more readable format\n",
    "dt_list=[]\n",
    "tt_list=[]\n",
    "#df['datetime'] = pd.to_datetime(df['datetime'],format)\n",
    "for i in df.datetime:\n",
    "    try:\n",
    "        dt=datetime.strptime(i, '%m/%d/%Y %I:%M %p')\n",
    "        dt_list.append(dt.strftime('%d/%m/%Y'))\n",
    "        tt_list.append(dt.strftime('%H:%M'))\n",
    "    except ValueError:\n",
    "        dt=datetime.strptime(i, '%m/%d/%Y %H:%M')\n",
    "        \n",
    "        dt_list.append(dt.strftime('%d/%m/%Y'))\n",
    "        tt_list.append(dt.strftime('%H:%M'))\n",
    "\n",
    "df['Date']=dt_list\n",
    "df['Time']=tt_list\n",
    "df.drop(columns=['datetime'],inplace=True)"
   ]
  },
  {
   "cell_type": "code",
   "execution_count": 175,
   "id": "224c0d71",
   "metadata": {},
   "outputs": [
    {
     "data": {
      "text/html": [
       "<div>\n",
       "<style scoped>\n",
       "    .dataframe tbody tr th:only-of-type {\n",
       "        vertical-align: middle;\n",
       "    }\n",
       "\n",
       "    .dataframe tbody tr th {\n",
       "        vertical-align: top;\n",
       "    }\n",
       "\n",
       "    .dataframe thead th {\n",
       "        text-align: right;\n",
       "    }\n",
       "</style>\n",
       "<table border=\"1\" class=\"dataframe\">\n",
       "  <thead>\n",
       "    <tr style=\"text-align: right;\">\n",
       "      <th></th>\n",
       "      <th>headline</th>\n",
       "      <th>ticker</th>\n",
       "      <th>sentiment</th>\n",
       "      <th>Date</th>\n",
       "      <th>Time</th>\n",
       "    </tr>\n",
       "  </thead>\n",
       "  <tbody>\n",
       "    <tr>\n",
       "      <th>0</th>\n",
       "      <td>$MMM fell on hard times but could be set to re...</td>\n",
       "      <td>MMM</td>\n",
       "      <td>0</td>\n",
       "      <td>16/01/2020</td>\n",
       "      <td>05:25</td>\n",
       "    </tr>\n",
       "    <tr>\n",
       "      <th>1</th>\n",
       "      <td>Wolfe Research Upgrades 3M $MMM to ��Peer Perf...</td>\n",
       "      <td>MMM</td>\n",
       "      <td>1</td>\n",
       "      <td>11/01/2020</td>\n",
       "      <td>06:43</td>\n",
       "    </tr>\n",
       "    <tr>\n",
       "      <th>2</th>\n",
       "      <td>3M $MMM Upgraded to ��Peer Perform�� by Wolfe ...</td>\n",
       "      <td>MMM</td>\n",
       "      <td>1</td>\n",
       "      <td>09/01/2020</td>\n",
       "      <td>09:37</td>\n",
       "    </tr>\n",
       "    <tr>\n",
       "      <th>3</th>\n",
       "      <td>$MMM #insideday follow up as it also opened up...</td>\n",
       "      <td>MMM</td>\n",
       "      <td>1</td>\n",
       "      <td>08/01/2020</td>\n",
       "      <td>17:01</td>\n",
       "    </tr>\n",
       "    <tr>\n",
       "      <th>4</th>\n",
       "      <td>$MMM is best #dividend #stock out there and do...</td>\n",
       "      <td>MMM</td>\n",
       "      <td>0</td>\n",
       "      <td>08/01/2020</td>\n",
       "      <td>07:44</td>\n",
       "    </tr>\n",
       "  </tbody>\n",
       "</table>\n",
       "</div>"
      ],
      "text/plain": [
       "                                            headline ticker  sentiment  \\\n",
       "0  $MMM fell on hard times but could be set to re...    MMM          0   \n",
       "1  Wolfe Research Upgrades 3M $MMM to ��Peer Perf...    MMM          1   \n",
       "2  3M $MMM Upgraded to ��Peer Perform�� by Wolfe ...    MMM          1   \n",
       "3  $MMM #insideday follow up as it also opened up...    MMM          1   \n",
       "4  $MMM is best #dividend #stock out there and do...    MMM          0   \n",
       "\n",
       "         Date   Time  \n",
       "0  16/01/2020  05:25  \n",
       "1  11/01/2020  06:43  \n",
       "2  09/01/2020  09:37  \n",
       "3  08/01/2020  17:01  \n",
       "4  08/01/2020  07:44  "
      ]
     },
     "execution_count": 175,
     "metadata": {},
     "output_type": "execute_result"
    }
   ],
   "source": [
    "df.head(5)"
   ]
  },
  {
   "cell_type": "code",
   "execution_count": 176,
   "id": "aaecf76c",
   "metadata": {},
   "outputs": [],
   "source": [
    "y=df['sentiment']\n",
    "X=df.drop(columns=['sentiment'])"
   ]
  },
  {
   "cell_type": "code",
   "execution_count": null,
   "id": "d4a9178d",
   "metadata": {},
   "outputs": [],
   "source": []
  },
  {
   "cell_type": "code",
   "execution_count": 177,
   "id": "b217aa8f",
   "metadata": {},
   "outputs": [],
   "source": [
    "def cleaning(text):\n",
    "    #converting in to lowercase\n",
    "    text_list=text.split()\n",
    "    text1=[]\n",
    "    for i in range(len(text_list)):\n",
    "        text1.append(re.sub('[^A-Za-z]+', '', text_list[i]))\n",
    "    text1=' '.join(text1)  #converting list in to string\n",
    "    text1=\" \".join(text1.split())  #for removing extra space \n",
    "    cleaned_text = text1.lower()\n",
    "    return cleaned_text\n",
    "\n",
    "    \n",
    "    \n",
    "def tokenization(text):\n",
    "    #word tokenization\n",
    "    tokenized_list=word_tokenize(text)\n",
    "    return tokenized_list\n",
    "    \n",
    "\n",
    "def lemmatization(text):\n",
    "    #using WordNet Lemmatizer\n",
    "    lemme_list=[]\n",
    "    lemmatizer = WordNetLemmatizer() \n",
    "    for i in text:\n",
    "            lemme_list.append(lemmatizer.lemmatize(i,pos='v'))\n",
    "    return lemme_list\n",
    "\n",
    "\n",
    "\n",
    "stop_words = set(stopwords.words('english'))\n",
    "def meaningful_words(text):\n",
    "    #removing Stopwords\n",
    "    m_list=[]\n",
    "    for w in text:\n",
    "        if w not in stop_words:\n",
    "            m_list.append(w)\n",
    "    return (' '.join(m_list))"
   ]
  },
  {
   "cell_type": "code",
   "execution_count": 178,
   "id": "e9a6c73e",
   "metadata": {},
   "outputs": [],
   "source": [
    "hd=X.headline\n",
    "for i in hd.index:\n",
    "    hd[i]=meaningful_words(lemmatization(tokenization(cleaning(hd[i]))))  #appluing above function in dataset(cleaning the data)"
   ]
  },
  {
   "cell_type": "code",
   "execution_count": 179,
   "id": "6a3de4b7",
   "metadata": {},
   "outputs": [
    {
     "name": "stdout",
     "output_type": "stream",
     "text": [
      "accuracy:   0.876\n"
     ]
    }
   ],
   "source": [
    "#creating Tfidf Vector \n",
    "tfvector=TfidfVectorizer(stop_words=\"english\",ngram_range=(1,3))\n",
    "train_df_tf=tfvector.fit_transform(hd)\n",
    "X_train_tf, X_test_tf, y_train_tf, y_test_tf = train_test_split( train_df_tf, y, test_size=0.33, random_state=42)\n",
    "\n",
    "#Multinomial Naive bayes Model\n",
    "mnb_tf = MultinomialNB()\n",
    "mnb_tf.fit(X_train_tf, y_train_tf)\n",
    "pred_tf = mnb_tf.predict(X_test_tf)\n",
    "score = metrics.accuracy_score(y_test_tf, pred_tf)\n",
    "\n",
    "print(\"accuracy:   %0.3f\" % score)"
   ]
  },
  {
   "cell_type": "code",
   "execution_count": 180,
   "id": "3560d3d0",
   "metadata": {},
   "outputs": [
    {
     "name": "stdout",
     "output_type": "stream",
     "text": [
      "Confusion matirix for TF-IDF\n",
      "[[1006  331]\n",
      " [  57 1732]]\n"
     ]
    }
   ],
   "source": [
    "cm_tf = confusion_matrix(y_test_tf, pred_tf)\n",
    "FN_tf = cm_tf[1][0]\n",
    "TN_tf = cm_tf[0][0]\n",
    "TP_tf = cm_tf[1][1]\n",
    "FP_tf = cm_tf[0][1]\n",
    "print(\"Confusion matirix for TF-IDF\")\n",
    "print(cm_tf)"
   ]
  },
  {
   "cell_type": "code",
   "execution_count": 181,
   "id": "fabf7e5b",
   "metadata": {},
   "outputs": [
    {
     "name": "stdout",
     "output_type": "stream",
     "text": [
      "Precision: 0.8395540475036355\n",
      "Recall: 0.9681386249301286\n",
      "F-1_Score: 0.8992731048805815\n"
     ]
    }
   ],
   "source": [
    "precision_tf=TP_tf/(TP_tf+FP_tf)\n",
    "print(\"Precision:\",precision_tf)\n",
    "Recall_tf=TP_tf/(TP_tf+FN_tf)\n",
    "print(\"Recall:\",Recall_tf)\n",
    "F1_Measure_tf= 2 * (precision_tf * Recall_tf) / (precision_tf + Recall_tf)\n",
    "print(\"F-1_Score:\",F1_Measure_tf)"
   ]
  },
  {
   "cell_type": "code",
   "execution_count": 182,
   "id": "e2595daa",
   "metadata": {},
   "outputs": [
    {
     "data": {
      "image/png": "[encoded data removed]",
      "text/plain": [
       "<Figure size 432x288 with 1 Axes>"
      ]
     },
     "metadata": {
      "needs_background": "light"
     },
     "output_type": "display_data"
    }
   ],
   "source": [
    "plt.bar(['False Negative' , 'True Negative' , 'True Positive' , 'False Positive'],[FN_tf,TN_tf,TP_tf,FP_tf])\n",
    "plt.show()"
   ]
  },
  {
   "cell_type": "code",
   "execution_count": null,
   "id": "97f689b0",
   "metadata": {},
   "outputs": [],
   "source": []
  },
  {
   "cell_type": "code",
   "execution_count": 183,
   "id": "29a769de",
   "metadata": {},
   "outputs": [
    {
     "name": "stdout",
     "output_type": "stream",
     "text": [
      "accuracy:   0.903\n"
     ]
    }
   ],
   "source": [
    "#Creating countvectorizer using Count vector\n",
    "cv=CountVectorizer(stop_words=\"english\", \n",
    "                                ngram_range=(1,3))\n",
    "train_df_cv=cv.fit_transform(hd)\n",
    "X_train_cv, X_test_cv, y_train_cv, y_test_cv = train_test_split( train_df_cv, y, test_size=0.33, random_state=42)\n",
    "#Multinomial Naive bayes for Count Vector\n",
    "mnb_cv = MultinomialNB()\n",
    "mnb_cv.fit(X_train_cv, y_train_cv)\n",
    "pred_cv = mnb_cv.predict(X_test_cv)\n",
    "score = metrics.accuracy_score(y_test_cv, pred_cv)\n",
    "#print(min_df,max_df,analyzer,ngram_range,max_features)\n",
    "\n",
    "print(\"accuracy:   %0.3f\" % score)"
   ]
  },
  {
   "cell_type": "code",
   "execution_count": 184,
   "id": "61fe2493",
   "metadata": {},
   "outputs": [
    {
     "name": "stdout",
     "output_type": "stream",
     "text": [
      "Confusion matirix for Count Vector\n",
      "[[1222  115]\n",
      " [ 188 1601]]\n"
     ]
    }
   ],
   "source": [
    "cm = confusion_matrix(y_test_cv, pred_cv)\n",
    "FN = cm[1][0]\n",
    "TN = cm[0][0]\n",
    "TP = cm[1][1]\n",
    "FP = cm[0][1]\n",
    "print(\"Confusion matirix for Count Vector\")\n",
    "print(cm)"
   ]
  },
  {
   "cell_type": "code",
   "execution_count": 185,
   "id": "49554bac",
   "metadata": {},
   "outputs": [
    {
     "name": "stdout",
     "output_type": "stream",
     "text": [
      "Precision: 0.932983682983683\n",
      "Recall: 0.8949133594186697\n",
      "F-1_Score: 0.9135520684736091\n"
     ]
    }
   ],
   "source": [
    "precision_cv=TP/(TP+FP)\n",
    "print(\"Precision:\",precision_cv)\n",
    "Recall_cv=TP/(TP+FN)\n",
    "print(\"Recall:\",Recall_cv)\n",
    "F1_Measure= 2 * (precision_cv * Recall_cv) / (precision_cv + Recall_cv)\n",
    "print(\"F-1_Score:\",F1_Measure)"
   ]
  },
  {
   "cell_type": "code",
   "execution_count": 186,
   "id": "49877a18",
   "metadata": {},
   "outputs": [
    {
     "data": {
      "image/png": "[encoded data removed]",
      "text/plain": [
       "<Figure size 432x288 with 1 Axes>"
      ]
     },
     "metadata": {
      "needs_background": "light"
     },
     "output_type": "display_data"
    }
   ],
   "source": [
    "plt.bar(['False Negative' , 'True Negative' , 'True Positive' , 'False Positive'],[FN,TN,TP,FP])\n",
    "plt.show()"
   ]
  },
  {
   "cell_type": "code",
   "execution_count": 187,
   "id": "ae78aeba",
   "metadata": {},
   "outputs": [
    {
     "name": "stdout",
     "output_type": "stream",
     "text": [
      "Tweet_1: [('mmm', 'NN'), ('fell', 'VBD'), ('on', 'IN'), ('hard', 'JJ'), ('times', 'NNS'), ('but', 'CC'), ('could', 'MD'), ('be', 'VB'), ('set', 'VBN'), ('to', 'TO'), ('rebound', 'VB'), ('soon', 'RB')]\n",
      "-------------------------------------\n",
      "Tweet_2: [('wolfe', 'JJ'), ('research', 'NN'), ('upgrades', 'NNS'), ('m', 'VBP'), ('mmm', 'NN'), ('to', 'TO'), ('peer', 'VB'), ('perform', 'NN')]\n",
      "-------------------------------------\n",
      "Tweet_3: [('m', 'NN'), ('mmm', 'NN'), ('upgraded', 'VBD'), ('to', 'TO'), ('peer', 'VB'), ('perform', 'NN'), ('by', 'IN'), ('wolfe', 'JJ'), ('research', 'NN'), ('stocks', 'NNS')]\n",
      "-------------------------------------\n",
      "Tweet_4: [('mmm', 'NN'), ('insideday', 'NN'), ('follow', 'VB'), ('up', 'RP'), ('as', 'IN'), ('it', 'PRP'), ('also', 'RB'), ('opened', 'VBD'), ('up', 'RP'), ('with', 'IN'), ('a', 'DT'), ('nice', 'JJ'), ('candle', 'NN'), ('that', 'WDT'), ('closed', 'VBD'), ('just', 'RB'), ('over', 'IN'), ('the', 'DT'), ('prior', 'JJ'), ('days', 'NNS'), ('high', 'JJ'), ('and', 'CC'), ('thk', 'NN')]\n",
      "-------------------------------------\n"
     ]
    }
   ],
   "source": [
    "#POS_TAG\n",
    "pos_tag_list=[]\n",
    "for i  in range(4):\n",
    "    text=df.loc[i,'headline']\n",
    "    pos_tag_list.append(nltk.pos_tag(tokenization(cleaning(text))))\n",
    "    \n",
    "    \n",
    "for i in range(4):\n",
    "    print(\"Tweet_\"+str(i+1)+\":\",pos_tag_list[i])\n",
    "    print(\"-------------------------------------\")"
   ]
  },
  {
   "cell_type": "code",
   "execution_count": 188,
   "id": "29879a68",
   "metadata": {},
   "outputs": [],
   "source": [
    "#From the above Accuracy result we can see \n",
    "#tfidf_accuracy value is accuracy:   0.876\n",
    "#and Count vectorizer accuracy is accuracy:   0.903  which is more \n",
    "#but if we will check the Recall and Precision we found Precision is good in Count vectorizer and Recall is good in TFIDF "
   ]
  },
  {
   "cell_type": "markdown",
   "id": "8471a9ce",
   "metadata": {},
   "source": [
    "TF-IDF\n",
    "Precision: 0.8395540475036355\n",
    "Recall: 0.9681386249301286\n",
    "F-1_Score: 0.8992731048805815"
   ]
  },
  {
   "cell_type": "markdown",
   "id": "999f0b49",
   "metadata": {},
   "source": [
    "Count Vectorizer\n",
    "Precision: 0.932983682983683\n",
    "Recall: 0.8949133594186697\n",
    "F-1_Score: 0.9135520684736091\n"
   ]
  },
  {
   "cell_type": "markdown",
   "id": "7ade2643",
   "metadata": {},
   "source": [
    "for sentiment analysis we cannot depend only on accuracy we have to check precision and Recall mostly for TF-IDF Recall is way better so in above two models we can say that TF-IDF is provding better results anyhow Count_vectorixer is giving high accuracy\n"
   ]
  },
  {
   "cell_type": "code",
   "execution_count": null,
   "id": "56860a8d",
   "metadata": {},
   "outputs": [],
   "source": [
    "\n"
   ]
  }
 ],
 "metadata": {
  "kernelspec": {
   "display_name": "Python 3",
   "language": "python",
   "name": "python3"
  },
  "language_info": {
   "codemirror_mode": {
    "name": "ipython",
    "version": 3
   },
   "file_extension": ".py",
   "mimetype": "text/x-python",
   "name": "python",
   "nbconvert_exporter": "python",
   "pygments_lexer": "ipython3",
   "version": "3.8.8"
  }
 },
 "nbformat": 4,
 "nbformat_minor": 5
}
